{
 "cells": [
  {
   "cell_type": "markdown",
   "metadata": {},
   "source": [
    "# CVX Project - Part 1 | Spring 2019\n",
    "### Comparison of Different Convergence Algorithms for Unstructured Sparsity"
   ]
  },
  {
   "cell_type": "code",
   "execution_count": 6,
   "metadata": {},
   "outputs": [],
   "source": [
    "import numpy as np \n",
    "from scipy.sparse import random as sprandn\n",
    "import matplotlib.pyplot as plt"
   ]
  },
  {
   "cell_type": "markdown",
   "metadata": {},
   "source": [
    "### Defining some critical constants needed along the way\n",
    "These values are shown to work well with the given algorithms. Also we compute the Gram Matrrix for A'A so that we can use it directly."
   ]
  },
  {
   "cell_type": "code",
   "execution_count": 7,
   "metadata": {},
   "outputs": [],
   "source": [
    "m = 500\n",
    "n = 2500\n",
    "maxit = 100\n",
    "V = 1e-3\n",
    "W   = 1e-2 \n",
    "\n",
    "A = np.matrix(np.random.randn(m,n))\n",
    "A = (A-np.mean(A,0))/np.std(A,0)\n",
    "x_r = sprandn(n,1,density=0.05)\n",
    "b = A*x_r + np.sqrt(0.001)*np.matrix(np.random.randn(m,1))\n",
    "ATA  = A.T*A\n",
    "ATb  = A.T*b"
   ]
  },
  {
   "cell_type": "markdown",
   "metadata": {},
   "source": [
    "Once the constants have been defined, we now proceed to write out the helper functions for simple L1-norm regularized sparse source localization. The objective is simply coded using the 1-norm, gradient is easily found, "
   ]
  },
  {
   "cell_type": "code",
   "execution_count": 48,
   "metadata": {},
   "outputs": [],
   "source": [
    "def objective(A,x,b,gamma):\n",
    "    return f(A,x,b) + gamma*np.sum(np.abs(x))\n",
    "\n",
    "def f(A,x,b):\n",
    "    return 0.5*(np.linalg.norm(A*x-b)**2)\n",
    "\n",
    "def gradf(ATA,x,ATb):\n",
    "    return ATA*x-ATb \n",
    "\n",
    "def uppbd(A,ATA,ATb,x,x_1,b,lK):\n",
    "    xd = x_1 - x\n",
    "    return f(A,x,b) + 1.0/(2.0*lK)* np.sum(np.multiply(xd,xd)) + gradf(ATA,x,ATb).T*xd \n",
    "    \n",
    "def proxop(zeta,lamdaK):\n",
    "    f = np.matrix(np.zeros(np.shape(zeta)))\n",
    "    return np.multiply(np.sign(zeta),np.maximum(np.abs(zeta)-lamdaK,f))\n",
    "\n",
    "def proxf(ATA,zeta,ATb,W,n):\n",
    "    return np.linalg.inv(W*np.identity(n)+ATA)*(ATb + 0.01*zeta)"
   ]
  },
  {
   "cell_type": "markdown",
   "metadata": {},
   "source": [
    "### Defining the Solvers\n",
    "Now we can proceed to write 3 different solvers - the PGD, APGD and the ADMM. The methodology is well documented in most online resources. But these are custom coded."
   ]
  },
  {
   "cell_type": "code",
   "execution_count": 62,
   "metadata": {},
   "outputs": [],
   "source": [
    "def PGD(maxit,lK,g,AtA,Atb,A,beta,b,V):\n",
    "    x = np.matrix(np.zeros((np.shape(A)[1],1)))\n",
    "    obj = []\n",
    "    for k in range(maxit):\n",
    "        while True:\n",
    "            xr = proxop(x-lK*gradf(AtA,x,Atb),lK*g)\n",
    "            if f(A,xr,b) <= uppbd(A,AtA,Atb,x,xr,b,lK):\n",
    "                break\n",
    "            else:\n",
    "                lK = beta*lK\n",
    "        obj.append(objective(A,xr,b,g))\n",
    "        if k > 1 and np.linalg.norm(objective(A,xr,b,g) - objective(A,x,b,g)) < V:\n",
    "            break\n",
    "        x = xr\n",
    "    return obj,xr\n",
    "\n",
    "def APGD(maxit,lK,g,AtA,Atb,A,beta,b,V):\n",
    "    x = np.matrix(np.zeros((np.shape(A)[1],1)))\n",
    "    xp = x\n",
    "    obj = []\n",
    "    for k in range(maxit):\n",
    "        y = x + (1/(k+1)) * (x-xp)\n",
    "        while True:\n",
    "            xr = proxop(y-lK*gradf(AtA,y,Atb),lK*g)\n",
    "            if f(A,xr,b) <= uppbd(A,AtA,Atb,y,xr,b,lK):\n",
    "                break\n",
    "            else:\n",
    "                lK = beta*lK\n",
    "        obj.append(objective(A,xr,b,g))\n",
    "        if k > 1 and np.linalg.norm(objective(A,xr,b,g) - objective(A,x,b,g)) < V:\n",
    "            break\n",
    "        xp = x\n",
    "        x = xr\n",
    "    return obj,xr\n",
    "\n",
    "def ADMM(maxit,lK,g,ATA,ATb,A,b,V,W,n):\n",
    "    ldr = 1/lK\n",
    "    x = np.matrix(np.random.randn(n,1))\n",
    "    z = np.matrix(np.random.randn(n,1))\n",
    "    t = np.matrix(np.random.randn(n,1))\n",
    "    obj = []\n",
    "    for k in range(maxit):\n",
    "        xr = proxf(ATA,(z-t),ATb,W,n)\n",
    "        zr = proxop(xr+t,(lK*g)/W) \n",
    "        tr = t + W*(xr - zr)\n",
    "        ls = f(A,xr,b)+ g*np.sum(np.abs(zr))\n",
    "        obj.append(ls)\n",
    "        lsold = f(A,x,b)+ g*np.sum(np.abs(z))\n",
    "        if k > 1 and np.linalg.norm(ls - lsold) < V:\n",
    "            break\n",
    "        z = zr\n",
    "        x = xr\n",
    "        t = tr        \n",
    "    return obj, xr"
   ]
  },
  {
   "cell_type": "markdown",
   "metadata": {},
   "source": [
    "### Running the defined solvers\n",
    "Finally we can run the three solvers and get the results stored in the **obj*** variables."
   ]
  },
  {
   "cell_type": "code",
   "execution_count": 64,
   "metadata": {},
   "outputs": [],
   "source": [
    "lK = 1\n",
    "be = 0.5\n",
    "g =  0.01\n",
    "\n",
    "obj1,d = PGD(maxit,lK,g,ATA,ATb,A,be,b,V)\n",
    "obj2,d = APGD(maxit,lK,g,ATA,ATb,A,be,b,V)\n",
    "obj3,d = ADMM(maxit,lK,g,ATA,ATb,A,b,V,W,n)"
   ]
  },
  {
   "cell_type": "markdown",
   "metadata": {},
   "source": [
    "### Plotting the Convergence Graphs per Method\n",
    "The obj* variables from the above code captures the array of loss values per iteration. These are then plotted on the same graph to show speed of convergence relative to other methods."
   ]
  },
  {
   "cell_type": "code",
   "execution_count": 65,
   "metadata": {
    "scrolled": true
   },
   "outputs": [
    {
     "data": {
      "text/plain": [
       "<matplotlib.legend.Legend at 0x114725d68>"
      ]
     },
     "execution_count": 65,
     "metadata": {},
     "output_type": "execute_result"
    },
    {
     "data": {
      "image/png": "[encoded data removed]",
      "text/plain": [
       "<Figure size 432x288 with 1 Axes>"
      ]
     },
     "metadata": {
      "needs_background": "light"
     },
     "output_type": "display_data"
    }
   ],
   "source": [
    "plt.plot(range(len(obj1)), obj1,range(len(obj2)), obj2,range(len(obj3)), obj3)\n",
    "plt.title('Comparison of Rates of Convergence')\n",
    "plt.xlabel('Number of Iterations')\n",
    "plt.ylabel('Distance to OPT')\n",
    "plt.legend(['Proximal Gradient Descent (PGD)', 'Accelerated PGD','ADMM'])"
   ]
  },
  {
   "cell_type": "markdown",
   "metadata": {},
   "source": [
    "We also want to make sure that our ADMM implementation is not dead. So we plot just that and sure enough the convergence is legitimate."
   ]
  },
  {
   "cell_type": "code",
   "execution_count": 66,
   "metadata": {
    "scrolled": true
   },
   "outputs": [
    {
     "data": {
      "text/plain": [
       "<matplotlib.legend.Legend at 0x114791518>"
      ]
     },
     "execution_count": 66,
     "metadata": {},
     "output_type": "execute_result"
    },
    {
     "data": {
      "image/png": "[encoded data removed]",
      "text/plain": [
       "<Figure size 432x288 with 1 Axes>"
      ]
     },
     "metadata": {
      "needs_background": "light"
     },
     "output_type": "display_data"
    }
   ],
   "source": [
    "plt.plot(range(len(obj3)), obj3)\n",
    "plt.title('The ADMM Convergence is not flat 0!')\n",
    "plt.xlabel('Number of Iterations')\n",
    "plt.ylabel('Distance to OPT')\n",
    "plt.legend(['ADMM'])"
   ]
  },
  {
   "cell_type": "markdown",
   "metadata": {},
   "source": [
    "Lastly, we emphasize the improvement in accelerated PGD vs. PGD. In fact for our chosen parameters the differences are not significant. Increasing the acceleration may help converge faster. Changing the standard 1/k factor to 1/k+3 we observe that the accelerated method does indeed converge faster!"
   ]
  },
  {
   "cell_type": "code",
   "execution_count": 67,
   "metadata": {
    "scrolled": true
   },
   "outputs": [
    {
     "data": {
      "text/plain": [
       "<matplotlib.legend.Legend at 0x1145c4630>"
      ]
     },
     "execution_count": 67,
     "metadata": {},
     "output_type": "execute_result"
    },
    {
     "data": {
      "image/png": "[encoded data removed]",
      "text/plain": [
       "<Figure size 432x288 with 1 Axes>"
      ]
     },
     "metadata": {
      "needs_background": "light"
     },
     "output_type": "display_data"
    }
   ],
   "source": [
    "plt.plot(range(len(obj1)), obj1 ,range(len(obj2)), obj2)\n",
    "plt.legend(['Proximal Gradient Descent (PGD)', 'Accelerated PGD'])"
   ]
  }
 ],
 "metadata": {
  "kernelspec": {
   "display_name": "Python 3",
   "language": "python",
   "name": "python3"
  },
  "language_info": {
   "codemirror_mode": {
    "name": "ipython",
    "version": 3
   },
   "file_extension": ".py",
   "mimetype": "text/x-python",
   "name": "python",
   "nbconvert_exporter": "python",
   "pygments_lexer": "ipython3",
   "version": "3.7.3"
  }
 },
 "nbformat": 4,
 "nbformat_minor": 2
}
