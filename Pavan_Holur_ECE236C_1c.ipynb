{
 "cells": [
  {
   "cell_type": "markdown",
   "metadata": {},
   "source": [
    "# Analyses of Iterative Reweighting on the L21 norm"
   ]
  },
  {
   "cell_type": "code",
   "execution_count": 64,
   "metadata": {},
   "outputs": [],
   "source": [
    "import numpy as np \n",
    "from scipy.sparse import random as sprandn\n",
    "import matplotlib.pyplot as plt"
   ]
  },
  {
   "cell_type": "markdown",
   "metadata": {},
   "source": [
    "We implement the same algorithms as before but the only difference includes adding a weighting factor that varies per iteration. This weighting is provably optimal in improving our output. However, the results in this test do not indicate a strong response to the weighting."
   ]
  },
  {
   "cell_type": "code",
   "execution_count": 98,
   "metadata": {},
   "outputs": [
    {
     "data": {
      "text/plain": [
       "Text(0.5,1,'Clean Artificial Plot of Brain Source Activity')"
      ]
     },
     "execution_count": 98,
     "metadata": {},
     "output_type": "execute_result"
    },
    {
     "data": {
      "image/png": "[encoded data removed]",
      "text/plain": [
       "<Figure size 432x288 with 1 Axes>"
      ]
     },
     "metadata": {
      "needs_background": "light"
     },
     "output_type": "display_data"
    }
   ],
   "source": [
    "m = 40 \t#number of sensors\n",
    "m_ = float(m)\n",
    "n = 50 # number of time stamps around each epoch\n",
    "A_ = np.matrix(np.random.randn(m,m)) # defining a random A\n",
    "A_ = (A_-np.mean(A_,0))/np.std(A_,0) # normalize columns at each time instant.\n",
    "X_r = [np.random.uniform(0,1,m) < 3.0/m]\n",
    "X = np.tile(X_r, (n,1))\n",
    "X = X.T\n",
    "X = X.astype(int)\n",
    "plt.imshow(X, cmap = \"gray\")\n",
    "plt.xlabel(\"Time stamps around epoch (clean)\")\n",
    "plt.ylabel(\"Source\")\n",
    "plt.title(\"Clean Artificial Plot of Brain Source Activity\")"
   ]
  },
  {
   "cell_type": "markdown",
   "metadata": {},
   "source": [
    "The code below generates the noisy signal to model the sensor output in non-invasive processes. The goal would be to recreate the above image using the understanding of sparsity and its structure in this context."
   ]
  },
  {
   "cell_type": "code",
   "execution_count": 99,
   "metadata": {},
   "outputs": [
    {
     "data": {
      "image/png": "[encoded data removed]",
      "text/plain": [
       "<Figure size 432x288 with 1 Axes>"
      ]
     },
     "metadata": {
      "needs_background": "light"
     },
     "output_type": "display_data"
    }
   ],
   "source": [
    "B = A_*X + np.sqrt(0.01)*np.matrix(np.random.randn(m,n)) # creating the O/P\n",
    "plt.imshow(B, cmap = \"gray\")\n",
    "plt.xlabel(\"Time stamps around epoch (clean)\")\n",
    "plt.ylabel(\"Sensors\")\n",
    "plt.title(\"Corrupted Artificial Plot of Brain Source Activity\")\n",
    "# cached computations: these don't need to be repeatedly computed for comparison\n",
    "\n",
    "maxit = 100\n",
    "V = 1e-3\n",
    "W = 1e-2 #error tolerance for ADMM"
   ]
  },
  {
   "cell_type": "markdown",
   "metadata": {},
   "source": [
    "Now we create some special functions to vectorize the matrices to vectors that are easier to work with."
   ]
  },
  {
   "cell_type": "code",
   "execution_count": 100,
   "metadata": {},
   "outputs": [],
   "source": [
    "b = B.T.reshape(m*n,1)\n",
    "A = np.kron(np.eye(n), A_)\n",
    "ATA = A.T*A\n",
    "ATb = A.T*b"
   ]
  },
  {
   "cell_type": "markdown",
   "metadata": {},
   "source": [
    "## The construction of various models and their hyperparameters\n",
    "The parameters are obtained from literature and/or commonsense. The parameters are kept constant across models when possible. Also we implement the proximal operator from scratch. Note that this can in fact be vectorized so our implementation from the previous section can be used. The L21 norm requires careful 2-norm along space and 1-norm across time."
   ]
  },
  {
   "cell_type": "code",
   "execution_count": 101,
   "metadata": {},
   "outputs": [],
   "source": [
    "def switch(x):\n",
    "    X = x.reshape(n,m).T\n",
    "    return X\n",
    "\n",
    "def l21(x):\n",
    "    X = switch(x)\n",
    "    sumo = 0.0\n",
    "    for i in range(m):\n",
    "        sumt = 0.0\n",
    "        for j in range(n):\n",
    "            sumt = sumt + X[i,j]*X[i,j]\n",
    "        sumo = sumo + np.sqrt(sumt)\n",
    "    return sumo\n",
    "\n",
    "def l21_r(x,w):\n",
    "    X = switch(x)\n",
    "    sumo = 0.0\n",
    "    for i in range(m):\n",
    "        sumt = 0.0\n",
    "        for j in range(n):\n",
    "            sumt = sumt + w[i,0]*X[i,j]*X[i,j]\n",
    "        sumo = sumo + np.sqrt(sumt)\n",
    "    return sumo\n",
    "\n",
    "def f(A,x,b):\n",
    "    return 0.5*(np.linalg.norm(A*x-b)**2)\n",
    "    \n",
    "def proxop(zeta,lamdaK):\n",
    "    Z = switch(zeta)\n",
    "    q = np.matrix(np.zeros((np.shape(zeta)[0],1)))\n",
    "    for i in range(0,len(zeta)):\n",
    "        d = i/n\n",
    "        q[i,0] = zeta[i,0]*np.maximum(0,1 - lamdaK/np.linalg.norm(Z[d,:]))\n",
    "    return q\n",
    "\n",
    "def proxop_r(zeta,lamdaK,w):\n",
    "    Z = switch(zeta)\n",
    "    q = np.matrix(np.zeros((np.shape(zeta)[0],1)))\n",
    "    for i in range(0,len(zeta)):\n",
    "        d = i/n\n",
    "        q[i,0] = zeta[i,0]*np.maximum(0,1 - lamdaK*(np.sqrt(w[d]))/np.linalg.norm(Z[d,:]))\n",
    "    return q\n",
    "\n",
    "def proxf(ATA,zeta,ATb,W,n):\n",
    "    return np.linalg.inv(W*np.identity(n*m)+ATA)*(ATb + 0.01*zeta)"
   ]
  },
  {
   "cell_type": "markdown",
   "metadata": {},
   "source": [
    "### Defining the Convergence Algorithm for comparison"
   ]
  },
  {
   "cell_type": "code",
   "execution_count": 102,
   "metadata": {},
   "outputs": [],
   "source": [
    "def ADMM(maxit,lK,g,ATA,ATb,A,b,V,W,n):\n",
    "    ldr = 1/lK\n",
    "    x = np.matrix(np.random.randn(m*n,1))\n",
    "    z = np.matrix(np.random.randn(m*n,1))\n",
    "    t = np.matrix(np.random.randn(m*n,1))\n",
    "    obj = []\n",
    "    for k in range(maxit):\n",
    "        xr = proxf(ATA,(z-t),ATb,W,n)\n",
    "        zr = proxop(xr+t,(lK*g)/W) \n",
    "        tr = t + W*(xr - zr)\n",
    "        ls = f(A,xr,b)+ g*l21(zr)\n",
    "        obj.append(ls)\n",
    "        lsold = f(A,x,b)+ g*l21(zr)\n",
    "        if k > 1 and np.linalg.norm(ls - lsold) < V:\n",
    "            break\n",
    "        z = zr\n",
    "        x = xr\n",
    "        t = tr        \n",
    "    return obj, xr\n",
    "\n",
    "def irX_ADMM(maxit,lK,g,ATA,ATb,A,b,V,W,n):\n",
    "    eps = 0.01\n",
    "    ldr = 1/lK\n",
    "    x = np.matrix(np.random.randn(m*n,1))\n",
    "    z = np.matrix(np.random.randn(m*n,1))\n",
    "    t = np.matrix(np.random.randn(m*n,1))\n",
    "    w = np.matrix(np.ones((m,1)))\n",
    "    obj = []\n",
    "    for k in range(maxit):\n",
    "        xr = proxf(ATA,(z-t),ATb,W,n)\n",
    "        zr = proxop_r(xr+t,(lK*g)/W, w) \n",
    "        tr = t + W*(xr - zr)\n",
    "        ls = f(A,xr,b)+ g*l21_r(zr,w)\n",
    "        print obj\n",
    "        obj.append(ls)\n",
    "        lsold = f(A,x,b)+ g*l21_r(zr,w)\n",
    "        if k > 1 and np.linalg.norm(ls - lsold) < V:\n",
    "            break\n",
    "        z = zr\n",
    "        x = xr\n",
    "        X = switch(x)\n",
    "        for i in range(0, m):\n",
    "            w[i,0] = 1 / (np.linalg.norm(X[i,:]) + eps)\n",
    "        t = tr        \n",
    "    return obj, xr"
   ]
  },
  {
   "cell_type": "markdown",
   "metadata": {},
   "source": [
    "### Running the Defined Solvers"
   ]
  },
  {
   "cell_type": "code",
   "execution_count": 103,
   "metadata": {},
   "outputs": [
    {
     "name": "stdout",
     "output_type": "stream",
     "text": [
      "[]\n",
      "[2.933885754156641]\n",
      "[2.933885754156641, 2.5112062651291622]\n",
      "[2.933885754156641, 2.5112062651291622, 2.5191643836664244]\n"
     ]
    }
   ],
   "source": [
    "lK = 1\n",
    "be = 0.5\n",
    "g =  0.01\n",
    "\n",
    "obj3,d = ADMM(maxit,lK,g,ATA,ATb,A,b,V,W,n)\n",
    "obj4,d2 = irX_ADMM(maxit,lK,g,ATA,ATb,A,b,V,W,n)"
   ]
  },
  {
   "cell_type": "markdown",
   "metadata": {},
   "source": [
    "### Plotting the Convergence Graphs per method\n",
    "Note: In this example, just for fun, we create a very agressive acceleration to observe the oscillation before convergence of the algorithm."
   ]
  },
  {
   "cell_type": "code",
   "execution_count": 104,
   "metadata": {
    "scrolled": true
   },
   "outputs": [
    {
     "data": {
      "text/plain": [
       "<matplotlib.legend.Legend at 0x10792ea10>"
      ]
     },
     "execution_count": 104,
     "metadata": {},
     "output_type": "execute_result"
    },
    {
     "data": {
      "image/png": "[encoded data removed]",
      "text/plain": [
       "<Figure size 432x288 with 1 Axes>"
      ]
     },
     "metadata": {
      "needs_background": "light"
     },
     "output_type": "display_data"
    }
   ],
   "source": [
    "plt.plot(range(len(obj3)), obj3, range(len(obj4)), obj4)\n",
    "plt.title('Comparison of Rates of Convergence')\n",
    "plt.xlabel('Number of Iterations')\n",
    "plt.ylabel('Primal - Dual Gap')\n",
    "plt.legend(['ADMM','Iterative Re-weighted ADMM'])"
   ]
  },
  {
   "cell_type": "markdown",
   "metadata": {},
   "source": [
    "### Verifying the performance of these convergence methods with a soft thresholding to emphasize solutions"
   ]
  },
  {
   "cell_type": "code",
   "execution_count": 120,
   "metadata": {},
   "outputs": [
    {
     "data": {
      "text/plain": [
       "Text(0.5,1,'Reconstructed Source Signal')"
      ]
     },
     "execution_count": 120,
     "metadata": {},
     "output_type": "execute_result"
    },
    {
     "data": {
      "image/png": "[encoded data removed]",
      "text/plain": [
       "<Figure size 432x288 with 1 Axes>"
      ]
     },
     "metadata": {
      "needs_background": "light"
     },
     "output_type": "display_data"
    }
   ],
   "source": [
    "X_res = switch(d)\n",
    "plt.imshow(X_res > 0.5, cmap = \"gray\")\n",
    "plt.xlabel(\"Time stamps around epoch\")\n",
    "plt.ylabel(\"Source\")\n",
    "plt.title(\"Reconstructed Source Signal\")"
   ]
  },
  {
   "cell_type": "code",
   "execution_count": 121,
   "metadata": {},
   "outputs": [
    {
     "data": {
      "text/plain": [
       "Text(0.5,1,'Reconstructed Source Signal')"
      ]
     },
     "execution_count": 121,
     "metadata": {},
     "output_type": "execute_result"
    },
    {
     "data": {
      "image/png": "[encoded data removed]",
      "text/plain": [
       "<Figure size 432x288 with 1 Axes>"
      ]
     },
     "metadata": {
      "needs_background": "light"
     },
     "output_type": "display_data"
    }
   ],
   "source": [
    "X_res = switch(d2)\n",
    "plt.imshow(X_res > 0.5, cmap = \"gray\")\n",
    "plt.xlabel(\"Time stamps around epoch\")\n",
    "plt.ylabel(\"Source\")\n",
    "plt.title(\"Reconstructed Source Signal\")"
   ]
  }
 ],
 "metadata": {
  "kernelspec": {
   "display_name": "Python 2",
   "language": "python",
   "name": "python2"
  },
  "language_info": {
   "codemirror_mode": {
    "name": "ipython",
    "version": 2
   },
   "file_extension": ".py",
   "mimetype": "text/x-python",
   "name": "python",
   "nbconvert_exporter": "python",
   "pygments_lexer": "ipython2",
   "version": "2.7.16"
  }
 },
 "nbformat": 4,
 "nbformat_minor": 2
}
